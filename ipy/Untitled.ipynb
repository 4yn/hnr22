{
 "cells": [
  {
   "cell_type": "code",
   "execution_count": null,
   "id": "6f133b4a",
   "metadata": {},
   "outputs": [],
   "source": [
    "wget https://eg.ress.me/api/script -O pynoculars.py\n",
    "%load_ext pynoculars"
   ]
  }
 ],
 "metadata": {
  "kernelspec": {
   "display_name": "Python 3 (ipykernel)",
   "language": "python",
   "name": "python3"
  },
  "language_info": {
   "codemirror_mode": {
    "name": "ipython",
    "version": 3
   },
   "file_extension": ".py",
   "mimetype": "text/x-python",
   "name": "python",
   "nbconvert_exporter": "python",
   "pygments_lexer": "ipython3",
   "version": "3.9.5"
  }
 },
 "nbformat": 4,
 "nbformat_minor": 5
}
