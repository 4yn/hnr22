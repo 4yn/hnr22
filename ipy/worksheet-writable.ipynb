{
 "cells": [
  {
   "cell_type": "code",
   "execution_count": null,
   "metadata": {
    "deletable": false,
    "editable": false,
    "tags": []
   },
   "outputs": [],
   "source": [
    "! wget https://eg.ress.me/api/script -O pynoculars.py\n",
    "%load_ext pynoculars"
   ]
  },
  {
   "cell_type": "markdown",
   "metadata": {
    "tags": []
   },
   "source": [
    "# Learn to Code!\n",
    "\n",
    "It's so fun to learn to code. Don't worry, this notebook is completely local. ~~Please do not disconnect from the internet~~ There's nobody judging you or anything! \n"
   ]
  },
  {
   "cell_type": "markdown",
   "metadata": {
    "tags": []
   },
   "source": [
    "## Getting started\n",
    "\n",
    "Let's start with something simple. How about some counting? I have A apples and B bananas. Write me a function that tells me how much fruit I have!"
   ]
  },
  {
   "cell_type": "code",
   "execution_count": null,
   "metadata": {},
   "outputs": [],
   "source": [
    "def add(a, b):\n",
    "    # Write your implementation here\n",
    "    return 0\n",
    "\n",
    "# Don't change the part below\n",
    "add(1, 2)\n",
    "add(5, 0)"
   ]
  },
  {
   "cell_type": "markdown",
   "metadata": {},
   "source": [
    "## A bit harder\n",
    "\n",
    "I'm writing a speech!!1!! But ! keep wr!t!ng exclamation points!!! Can you remove all of them?"
   ]
  },
  {
   "cell_type": "code",
   "execution_count": null,
   "metadata": {},
   "outputs": [],
   "source": [
    "# Question 2 (Do not modify this line!!! 😠)\n",
    "def remove_exclamations(speech):\n",
    "    # Your implementation here!\n",
    "    return \"!!!\"\n",
    "\n",
    "# Don't change this!!!!!!!!!!\n",
    "remove_exclamations(\"Wow!!! I can't believe it!!!!!!\")\n",
    "remove_exclamations(\"!I!t!h!i!!n!k!!t!h!!i!s!a!p!r!o!!b!l!!!e!m!!!\")"
   ]
  },
  {
   "cell_type": "markdown",
   "metadata": {
    "tags": []
   },
   "source": [
    "## Fun with graphs!\n",
    "\n",
    "Plot some happy little curves! Do it on the same graph!\n",
    "\n",
    "$$x = 0.2 \\sin{\\theta} - 1, y = 0.2 \\cos{\\theta} + 1, -\\pi \\leq \\theta \\leq \\pi,$$\n",
    "$$x = 0.2 \\sin{\\theta} + 1, y = 0.2 \\cos{\\theta} + 1, -\\pi \\leq \\theta \\leq \\pi,$$\n",
    "$$x = 2 \\cos{\\theta} - 3, y = 2 \\sin{\\theta}, -\\pi/6 \\leq \\theta \\leq \\pi/6,$$"
   ]
  },
  {
   "cell_type": "code",
   "execution_count": null,
   "metadata": {
    "deletable": false,
    "editable": false,
    "tags": []
   },
   "outputs": [],
   "source": [
    "# Some imports to help out!\n",
    "import matplotlib.pyplot as plt\n",
    "import numpy as np"
   ]
  },
  {
   "cell_type": "code",
   "execution_count": null,
   "metadata": {
    "slideshow": {
     "slide_type": "subslide"
    },
    "tags": []
   },
   "outputs": [],
   "source": [
    "fig = plt.figure(3, figsize=(16,12))\n",
    "plt.xlim([-2, 2])\n",
    "plt.ylim([-2, 2])\n",
    "\n",
    "# Write your happy little plot here! Here's one to get you started.\n",
    "\n",
    "theta1 = np.linspace(-np.pi, np.pi, 100)\n",
    "X1 = 0.2 * np.sin(theta1) - 1\n",
    "Y1 = 0.2 * np.cos(theta1) + 1\n",
    "plt.plot(X1, Y1)\n",
    "\n",
    "''' Demo: Uncomment the remaining lines here\n",
    "theta2 = np.linspace(-np.pi, np.pi, 100)\n",
    "X2 = 0.2 * np.sin(theta2) + 1\n",
    "Y2 = 0.2 * np.cos(theta2) + 1\n",
    "plt.plot(X2, Y2)\n",
    "\n",
    "theta3 = np.linspace(-np.pi / 4, np.pi / 4, 100)\n",
    "X3 = 1.5 * np.sin(theta3)\n",
    "Y3 = 1.5 * np.cos(theta3) - 2\n",
    "plt.plot(X3, Y3)\n",
    "'''\n",
    "\n",
    "fig"
   ]
  }
 ],
 "metadata": {
  "kernelspec": {
   "display_name": "Python 3 (ipykernel)",
   "language": "python",
   "name": "python3"
  },
  "language_info": {
   "codemirror_mode": {
    "name": "ipython",
    "version": 3
   },
   "file_extension": ".py",
   "mimetype": "text/x-python",
   "name": "python",
   "nbconvert_exporter": "python",
   "pygments_lexer": "ipython3",
   "version": "3.9.5"
  }
 },
 "nbformat": 4,
 "nbformat_minor": 4
}
